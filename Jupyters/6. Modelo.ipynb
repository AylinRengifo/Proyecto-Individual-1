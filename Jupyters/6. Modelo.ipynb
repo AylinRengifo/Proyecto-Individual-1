{
 "cells": [
  {
   "cell_type": "markdown",
   "metadata": {},
   "source": [
    " # <center>**Modelo de recomendacion**"
   ]
  },
  {
   "cell_type": "markdown",
   "metadata": {},
   "source": [
    "En este Jupyter se crea un modelo de ML de recomendacion de items por similitud del coseno es decir se ingresa un articulo y el modelo busca articulos similares y nos  recomienda segun su similitud, en este caso nos recomienda 5 juegos al ingresar el id de otro juego."
   ]
  },
  {
   "cell_type": "markdown",
   "metadata": {},
   "source": [
    "## Importaciones"
   ]
  },
  {
   "cell_type": "code",
   "execution_count": 43,
   "metadata": {},
   "outputs": [],
   "source": [
    "import pandas as pd\n",
    "import numpy as np\n",
    "\n",
    "import pyarrow as pa\n",
    "import pyarrow.parquet as pq\n",
    "\n",
    "from sklearn.feature_extraction.text import CountVectorizer\n",
    "from sklearn.metrics.pairwise import cosine_similarity"
   ]
  },
  {
   "cell_type": "markdown",
   "metadata": {},
   "source": [
    "## Extraccion de la informacion"
   ]
  },
  {
   "cell_type": "markdown",
   "metadata": {},
   "source": [
    "**Datos a utilizar**"
   ]
  },
  {
   "cell_type": "code",
   "execution_count": 80,
   "metadata": {},
   "outputs": [],
   "source": [
    "Tabla_API= pd.read_parquet('Tabla_API.parquet')"
   ]
  },
  {
   "cell_type": "code",
   "execution_count": 81,
   "metadata": {},
   "outputs": [
    {
     "data": {
      "text/html": [
       "<div>\n",
       "<style scoped>\n",
       "    .dataframe tbody tr th:only-of-type {\n",
       "        vertical-align: middle;\n",
       "    }\n",
       "\n",
       "    .dataframe tbody tr th {\n",
       "        vertical-align: top;\n",
       "    }\n",
       "\n",
       "    .dataframe thead th {\n",
       "        text-align: right;\n",
       "    }\n",
       "</style>\n",
       "<table border=\"1\" class=\"dataframe\">\n",
       "  <thead>\n",
       "    <tr style=\"text-align: right;\">\n",
       "      <th></th>\n",
       "      <th>item_id</th>\n",
       "      <th>item_name</th>\n",
       "      <th>playtime_forever</th>\n",
       "      <th>user_id</th>\n",
       "      <th>playtime_hours</th>\n",
       "      <th>recommend</th>\n",
       "      <th>sentiment_analysis</th>\n",
       "      <th>year_review</th>\n",
       "      <th>genres</th>\n",
       "      <th>developer</th>\n",
       "      <th>year_release</th>\n",
       "    </tr>\n",
       "  </thead>\n",
       "  <tbody>\n",
       "    <tr>\n",
       "      <th>0</th>\n",
       "      <td>22200</td>\n",
       "      <td>Zeno Clash</td>\n",
       "      <td>271</td>\n",
       "      <td>76561197970982479</td>\n",
       "      <td>4.516667</td>\n",
       "      <td>True</td>\n",
       "      <td>1</td>\n",
       "      <td>2011</td>\n",
       "      <td>Action</td>\n",
       "      <td>ACE Team</td>\n",
       "      <td>2009</td>\n",
       "    </tr>\n",
       "    <tr>\n",
       "      <th>1</th>\n",
       "      <td>22200</td>\n",
       "      <td>Zeno Clash</td>\n",
       "      <td>271</td>\n",
       "      <td>76561197970982479</td>\n",
       "      <td>4.516667</td>\n",
       "      <td>True</td>\n",
       "      <td>1</td>\n",
       "      <td>2011</td>\n",
       "      <td>Indie</td>\n",
       "      <td>ACE Team</td>\n",
       "      <td>2009</td>\n",
       "    </tr>\n",
       "    <tr>\n",
       "      <th>2</th>\n",
       "      <td>22200</td>\n",
       "      <td>Zeno Clash</td>\n",
       "      <td>240</td>\n",
       "      <td>seantheextraprawnsheepguy</td>\n",
       "      <td>4.000000</td>\n",
       "      <td>True</td>\n",
       "      <td>2</td>\n",
       "      <td>2011</td>\n",
       "      <td>Action</td>\n",
       "      <td>ACE Team</td>\n",
       "      <td>2009</td>\n",
       "    </tr>\n",
       "    <tr>\n",
       "      <th>3</th>\n",
       "      <td>22200</td>\n",
       "      <td>Zeno Clash</td>\n",
       "      <td>240</td>\n",
       "      <td>seantheextraprawnsheepguy</td>\n",
       "      <td>4.000000</td>\n",
       "      <td>True</td>\n",
       "      <td>2</td>\n",
       "      <td>2011</td>\n",
       "      <td>Indie</td>\n",
       "      <td>ACE Team</td>\n",
       "      <td>2009</td>\n",
       "    </tr>\n",
       "    <tr>\n",
       "      <th>4</th>\n",
       "      <td>22200</td>\n",
       "      <td>Zeno Clash</td>\n",
       "      <td>690</td>\n",
       "      <td>pipekissXD</td>\n",
       "      <td>11.500000</td>\n",
       "      <td>True</td>\n",
       "      <td>2</td>\n",
       "      <td>2013</td>\n",
       "      <td>Action</td>\n",
       "      <td>ACE Team</td>\n",
       "      <td>2009</td>\n",
       "    </tr>\n",
       "    <tr>\n",
       "      <th>...</th>\n",
       "      <td>...</td>\n",
       "      <td>...</td>\n",
       "      <td>...</td>\n",
       "      <td>...</td>\n",
       "      <td>...</td>\n",
       "      <td>...</td>\n",
       "      <td>...</td>\n",
       "      <td>...</td>\n",
       "      <td>...</td>\n",
       "      <td>...</td>\n",
       "      <td>...</td>\n",
       "    </tr>\n",
       "    <tr>\n",
       "      <th>97519</th>\n",
       "      <td>220090</td>\n",
       "      <td>The Journey Down: Chapter One</td>\n",
       "      <td>403</td>\n",
       "      <td>MeloncraftLP</td>\n",
       "      <td>6.716667</td>\n",
       "      <td>True</td>\n",
       "      <td>1</td>\n",
       "      <td>2014</td>\n",
       "      <td>Indie</td>\n",
       "      <td>SkyGoblin</td>\n",
       "      <td>2013</td>\n",
       "    </tr>\n",
       "    <tr>\n",
       "      <th>97520</th>\n",
       "      <td>431510</td>\n",
       "      <td>Mystic Destinies: Serendipity of Aeons</td>\n",
       "      <td>499</td>\n",
       "      <td>vinquility</td>\n",
       "      <td>8.316667</td>\n",
       "      <td>True</td>\n",
       "      <td>2</td>\n",
       "      <td>2014</td>\n",
       "      <td>Adventure</td>\n",
       "      <td>Aeon Dream Studios</td>\n",
       "      <td>2016</td>\n",
       "    </tr>\n",
       "    <tr>\n",
       "      <th>97521</th>\n",
       "      <td>431510</td>\n",
       "      <td>Mystic Destinies: Serendipity of Aeons</td>\n",
       "      <td>499</td>\n",
       "      <td>vinquility</td>\n",
       "      <td>8.316667</td>\n",
       "      <td>True</td>\n",
       "      <td>2</td>\n",
       "      <td>2014</td>\n",
       "      <td>Casual</td>\n",
       "      <td>Aeon Dream Studios</td>\n",
       "      <td>2016</td>\n",
       "    </tr>\n",
       "    <tr>\n",
       "      <th>97522</th>\n",
       "      <td>431510</td>\n",
       "      <td>Mystic Destinies: Serendipity of Aeons</td>\n",
       "      <td>499</td>\n",
       "      <td>vinquility</td>\n",
       "      <td>8.316667</td>\n",
       "      <td>True</td>\n",
       "      <td>2</td>\n",
       "      <td>2014</td>\n",
       "      <td>Indie</td>\n",
       "      <td>Aeon Dream Studios</td>\n",
       "      <td>2016</td>\n",
       "    </tr>\n",
       "    <tr>\n",
       "      <th>97523</th>\n",
       "      <td>431510</td>\n",
       "      <td>Mystic Destinies: Serendipity of Aeons</td>\n",
       "      <td>499</td>\n",
       "      <td>vinquility</td>\n",
       "      <td>8.316667</td>\n",
       "      <td>True</td>\n",
       "      <td>2</td>\n",
       "      <td>2014</td>\n",
       "      <td>Simulation</td>\n",
       "      <td>Aeon Dream Studios</td>\n",
       "      <td>2016</td>\n",
       "    </tr>\n",
       "  </tbody>\n",
       "</table>\n",
       "<p>97524 rows × 11 columns</p>\n",
       "</div>"
      ],
      "text/plain": [
       "       item_id                               item_name  playtime_forever  \\\n",
       "0        22200                              Zeno Clash               271   \n",
       "1        22200                              Zeno Clash               271   \n",
       "2        22200                              Zeno Clash               240   \n",
       "3        22200                              Zeno Clash               240   \n",
       "4        22200                              Zeno Clash               690   \n",
       "...        ...                                     ...               ...   \n",
       "97519   220090           The Journey Down: Chapter One               403   \n",
       "97520   431510  Mystic Destinies: Serendipity of Aeons               499   \n",
       "97521   431510  Mystic Destinies: Serendipity of Aeons               499   \n",
       "97522   431510  Mystic Destinies: Serendipity of Aeons               499   \n",
       "97523   431510  Mystic Destinies: Serendipity of Aeons               499   \n",
       "\n",
       "                         user_id  playtime_hours  recommend  \\\n",
       "0              76561197970982479        4.516667       True   \n",
       "1              76561197970982479        4.516667       True   \n",
       "2      seantheextraprawnsheepguy        4.000000       True   \n",
       "3      seantheextraprawnsheepguy        4.000000       True   \n",
       "4                     pipekissXD       11.500000       True   \n",
       "...                          ...             ...        ...   \n",
       "97519               MeloncraftLP        6.716667       True   \n",
       "97520                 vinquility        8.316667       True   \n",
       "97521                 vinquility        8.316667       True   \n",
       "97522                 vinquility        8.316667       True   \n",
       "97523                 vinquility        8.316667       True   \n",
       "\n",
       "       sentiment_analysis  year_review      genres           developer  \\\n",
       "0                       1         2011      Action            ACE Team   \n",
       "1                       1         2011       Indie            ACE Team   \n",
       "2                       2         2011      Action            ACE Team   \n",
       "3                       2         2011       Indie            ACE Team   \n",
       "4                       2         2013      Action            ACE Team   \n",
       "...                   ...          ...         ...                 ...   \n",
       "97519                   1         2014       Indie           SkyGoblin   \n",
       "97520                   2         2014   Adventure  Aeon Dream Studios   \n",
       "97521                   2         2014      Casual  Aeon Dream Studios   \n",
       "97522                   2         2014       Indie  Aeon Dream Studios   \n",
       "97523                   2         2014  Simulation  Aeon Dream Studios   \n",
       "\n",
       "       year_release  \n",
       "0              2009  \n",
       "1              2009  \n",
       "2              2009  \n",
       "3              2009  \n",
       "4              2009  \n",
       "...             ...  \n",
       "97519          2013  \n",
       "97520          2016  \n",
       "97521          2016  \n",
       "97522          2016  \n",
       "97523          2016  \n",
       "\n",
       "[97524 rows x 11 columns]"
      ]
     },
     "execution_count": 81,
     "metadata": {},
     "output_type": "execute_result"
    }
   ],
   "source": [
    "Tabla_API"
   ]
  },
  {
   "cell_type": "markdown",
   "metadata": {},
   "source": [
    "Para entrenar el modelo solamente necesitamos 'item_id', 'item_name' asi que creamos una tabla con estas dos columnas"
   ]
  },
  {
   "cell_type": "code",
   "execution_count": 82,
   "metadata": {},
   "outputs": [],
   "source": [
    "modelo= Tabla_API[['item_id', 'item_name', 'genres']]"
   ]
  },
  {
   "cell_type": "code",
   "execution_count": 83,
   "metadata": {},
   "outputs": [
    {
     "data": {
      "text/html": [
       "<div>\n",
       "<style scoped>\n",
       "    .dataframe tbody tr th:only-of-type {\n",
       "        vertical-align: middle;\n",
       "    }\n",
       "\n",
       "    .dataframe tbody tr th {\n",
       "        vertical-align: top;\n",
       "    }\n",
       "\n",
       "    .dataframe thead th {\n",
       "        text-align: right;\n",
       "    }\n",
       "</style>\n",
       "<table border=\"1\" class=\"dataframe\">\n",
       "  <thead>\n",
       "    <tr style=\"text-align: right;\">\n",
       "      <th></th>\n",
       "      <th>item_id</th>\n",
       "      <th>item_name</th>\n",
       "      <th>genres</th>\n",
       "    </tr>\n",
       "  </thead>\n",
       "  <tbody>\n",
       "    <tr>\n",
       "      <th>0</th>\n",
       "      <td>22200</td>\n",
       "      <td>Zeno Clash</td>\n",
       "      <td>Action</td>\n",
       "    </tr>\n",
       "    <tr>\n",
       "      <th>1</th>\n",
       "      <td>22200</td>\n",
       "      <td>Zeno Clash</td>\n",
       "      <td>Indie</td>\n",
       "    </tr>\n",
       "    <tr>\n",
       "      <th>2</th>\n",
       "      <td>22200</td>\n",
       "      <td>Zeno Clash</td>\n",
       "      <td>Action</td>\n",
       "    </tr>\n",
       "    <tr>\n",
       "      <th>3</th>\n",
       "      <td>22200</td>\n",
       "      <td>Zeno Clash</td>\n",
       "      <td>Indie</td>\n",
       "    </tr>\n",
       "    <tr>\n",
       "      <th>4</th>\n",
       "      <td>22200</td>\n",
       "      <td>Zeno Clash</td>\n",
       "      <td>Action</td>\n",
       "    </tr>\n",
       "    <tr>\n",
       "      <th>...</th>\n",
       "      <td>...</td>\n",
       "      <td>...</td>\n",
       "      <td>...</td>\n",
       "    </tr>\n",
       "    <tr>\n",
       "      <th>97519</th>\n",
       "      <td>220090</td>\n",
       "      <td>The Journey Down: Chapter One</td>\n",
       "      <td>Indie</td>\n",
       "    </tr>\n",
       "    <tr>\n",
       "      <th>97520</th>\n",
       "      <td>431510</td>\n",
       "      <td>Mystic Destinies: Serendipity of Aeons</td>\n",
       "      <td>Adventure</td>\n",
       "    </tr>\n",
       "    <tr>\n",
       "      <th>97521</th>\n",
       "      <td>431510</td>\n",
       "      <td>Mystic Destinies: Serendipity of Aeons</td>\n",
       "      <td>Casual</td>\n",
       "    </tr>\n",
       "    <tr>\n",
       "      <th>97522</th>\n",
       "      <td>431510</td>\n",
       "      <td>Mystic Destinies: Serendipity of Aeons</td>\n",
       "      <td>Indie</td>\n",
       "    </tr>\n",
       "    <tr>\n",
       "      <th>97523</th>\n",
       "      <td>431510</td>\n",
       "      <td>Mystic Destinies: Serendipity of Aeons</td>\n",
       "      <td>Simulation</td>\n",
       "    </tr>\n",
       "  </tbody>\n",
       "</table>\n",
       "<p>97524 rows × 3 columns</p>\n",
       "</div>"
      ],
      "text/plain": [
       "       item_id                               item_name      genres\n",
       "0        22200                              Zeno Clash      Action\n",
       "1        22200                              Zeno Clash       Indie\n",
       "2        22200                              Zeno Clash      Action\n",
       "3        22200                              Zeno Clash       Indie\n",
       "4        22200                              Zeno Clash      Action\n",
       "...        ...                                     ...         ...\n",
       "97519   220090           The Journey Down: Chapter One       Indie\n",
       "97520   431510  Mystic Destinies: Serendipity of Aeons   Adventure\n",
       "97521   431510  Mystic Destinies: Serendipity of Aeons      Casual\n",
       "97522   431510  Mystic Destinies: Serendipity of Aeons       Indie\n",
       "97523   431510  Mystic Destinies: Serendipity of Aeons  Simulation\n",
       "\n",
       "[97524 rows x 3 columns]"
      ]
     },
     "execution_count": 83,
     "metadata": {},
     "output_type": "execute_result"
    }
   ],
   "source": [
    "#Visualizamos\n",
    "modelo"
   ]
  },
  {
   "cell_type": "code",
   "execution_count": 84,
   "metadata": {},
   "outputs": [
    {
     "data": {
      "text/html": [
       "<div>\n",
       "<style scoped>\n",
       "    .dataframe tbody tr th:only-of-type {\n",
       "        vertical-align: middle;\n",
       "    }\n",
       "\n",
       "    .dataframe tbody tr th {\n",
       "        vertical-align: top;\n",
       "    }\n",
       "\n",
       "    .dataframe thead th {\n",
       "        text-align: right;\n",
       "    }\n",
       "</style>\n",
       "<table border=\"1\" class=\"dataframe\">\n",
       "  <thead>\n",
       "    <tr style=\"text-align: right;\">\n",
       "      <th></th>\n",
       "      <th>item_name</th>\n",
       "      <th>item_id</th>\n",
       "      <th>genres</th>\n",
       "    </tr>\n",
       "  </thead>\n",
       "  <tbody>\n",
       "    <tr>\n",
       "      <th>0</th>\n",
       "      <td>! That Bastard Is Trying To Steal Our Gold !</td>\n",
       "      <td>449940</td>\n",
       "      <td>Action, Adventure, Casual, Indie</td>\n",
       "    </tr>\n",
       "    <tr>\n",
       "      <th>1</th>\n",
       "      <td>10,000,000</td>\n",
       "      <td>227580</td>\n",
       "      <td>Action, Casual, Indie, RPG, Action, Casual, In...</td>\n",
       "    </tr>\n",
       "    <tr>\n",
       "      <th>2</th>\n",
       "      <td>100% Orange Juice</td>\n",
       "      <td>282800</td>\n",
       "      <td>Indie, Strategy, Indie, Strategy, Indie, Strat...</td>\n",
       "    </tr>\n",
       "    <tr>\n",
       "      <th>3</th>\n",
       "      <td>12 Labours of Hercules</td>\n",
       "      <td>342580</td>\n",
       "      <td>Casual, Strategy, Casual, Strategy</td>\n",
       "    </tr>\n",
       "    <tr>\n",
       "      <th>4</th>\n",
       "      <td>12 Labours of Hercules II: The Cretan Bull</td>\n",
       "      <td>360640</td>\n",
       "      <td>Casual, Strategy, Casual, Strategy, Casual, St...</td>\n",
       "    </tr>\n",
       "    <tr>\n",
       "      <th>...</th>\n",
       "      <td>...</td>\n",
       "      <td>...</td>\n",
       "      <td>...</td>\n",
       "    </tr>\n",
       "    <tr>\n",
       "      <th>2647</th>\n",
       "      <td>resident evil 4 / biohazard 4</td>\n",
       "      <td>254700</td>\n",
       "      <td>Action, Adventure, Action, Adventure, Action, ...</td>\n",
       "    </tr>\n",
       "    <tr>\n",
       "      <th>2648</th>\n",
       "      <td>sZone-Online</td>\n",
       "      <td>316390</td>\n",
       "      <td>Action, Free to Play, Massively Multiplayer, R...</td>\n",
       "    </tr>\n",
       "    <tr>\n",
       "      <th>2649</th>\n",
       "      <td>the static speaks my name</td>\n",
       "      <td>387860</td>\n",
       "      <td>Adventure, Free to Play, Indie, RPG, Adventure...</td>\n",
       "    </tr>\n",
       "    <tr>\n",
       "      <th>2650</th>\n",
       "      <td>theHunter</td>\n",
       "      <td>253710</td>\n",
       "      <td>Action, Adventure, Free to Play, Simulation, S...</td>\n",
       "    </tr>\n",
       "    <tr>\n",
       "      <th>2651</th>\n",
       "      <td>theHunter: Primal</td>\n",
       "      <td>322920</td>\n",
       "      <td>Action, Adventure, Simulation, Action, Adventu...</td>\n",
       "    </tr>\n",
       "  </tbody>\n",
       "</table>\n",
       "<p>2652 rows × 3 columns</p>\n",
       "</div>"
      ],
      "text/plain": [
       "                                         item_name  item_id  \\\n",
       "0     ! That Bastard Is Trying To Steal Our Gold !   449940   \n",
       "1                                       10,000,000   227580   \n",
       "2                                100% Orange Juice   282800   \n",
       "3                           12 Labours of Hercules   342580   \n",
       "4       12 Labours of Hercules II: The Cretan Bull   360640   \n",
       "...                                            ...      ...   \n",
       "2647                 resident evil 4 / biohazard 4   254700   \n",
       "2648                                  sZone-Online   316390   \n",
       "2649                     the static speaks my name   387860   \n",
       "2650                                     theHunter   253710   \n",
       "2651                             theHunter: Primal   322920   \n",
       "\n",
       "                                                 genres  \n",
       "0                      Action, Adventure, Casual, Indie  \n",
       "1     Action, Casual, Indie, RPG, Action, Casual, In...  \n",
       "2     Indie, Strategy, Indie, Strategy, Indie, Strat...  \n",
       "3                    Casual, Strategy, Casual, Strategy  \n",
       "4     Casual, Strategy, Casual, Strategy, Casual, St...  \n",
       "...                                                 ...  \n",
       "2647  Action, Adventure, Action, Adventure, Action, ...  \n",
       "2648  Action, Free to Play, Massively Multiplayer, R...  \n",
       "2649  Adventure, Free to Play, Indie, RPG, Adventure...  \n",
       "2650  Action, Adventure, Free to Play, Simulation, S...  \n",
       "2651  Action, Adventure, Simulation, Action, Adventu...  \n",
       "\n",
       "[2652 rows x 3 columns]"
      ]
     },
     "execution_count": 84,
     "metadata": {},
     "output_type": "execute_result"
    }
   ],
   "source": [
    "# Se agrupar por item_name y concatena las entradas de la columna 'genres'\n",
    "modelo = modelo.groupby('item_name').agg({'item_id': 'first', 'genres': lambda x: ', '.join(x)}).reset_index()\n",
    "\n",
    "\n",
    "# Se visualiza la tabla\n",
    "modelo"
   ]
  },
  {
   "cell_type": "markdown",
   "metadata": {},
   "source": [
    "Verificamos los duplicados"
   ]
  },
  {
   "cell_type": "code",
   "execution_count": 86,
   "metadata": {},
   "outputs": [
    {
     "name": "stdout",
     "output_type": "stream",
     "text": [
      "No hay filas duplicadas\n"
     ]
    }
   ],
   "source": [
    "duplicados = modelo.duplicated().any()\n",
    "\n",
    "# Imprimir resultado\n",
    "if duplicados:\n",
    "    print(\"Hay filas duplicadas\")\n",
    "else:\n",
    "    print(\"No hay filas duplicadas\")"
   ]
  },
  {
   "cell_type": "markdown",
   "metadata": {},
   "source": [
    "Guardamos la informacion en un parquet"
   ]
  },
  {
   "cell_type": "code",
   "execution_count": 87,
   "metadata": {},
   "outputs": [],
   "source": [
    "modelo.to_parquet('modelo.parquet')"
   ]
  },
  {
   "cell_type": "markdown",
   "metadata": {},
   "source": [
    "Creamos un objeto CountVectorizar"
   ]
  },
  {
   "cell_type": "code",
   "execution_count": 88,
   "metadata": {},
   "outputs": [],
   "source": [
    "counvec = CountVectorizer(max_features = 5000, stop_words=\"english\")"
   ]
  },
  {
   "cell_type": "markdown",
   "metadata": {},
   "source": [
    "Aplicamos el vectorizador a los datos y transformamos los datos en una matriz de recuento de terminos y se convierte en una matriz"
   ]
  },
  {
   "cell_type": "code",
   "execution_count": 89,
   "metadata": {},
   "outputs": [
    {
     "data": {
      "text/plain": [
       "(2652, 29)"
      ]
     },
     "execution_count": 89,
     "metadata": {},
     "output_type": "execute_result"
    }
   ],
   "source": [
    "counvec.fit_transform(modelo[\"genres\"]).toarray().shape"
   ]
  },
  {
   "cell_type": "markdown",
   "metadata": {},
   "source": [
    "Generamos los vectores a comparar "
   ]
  },
  {
   "cell_type": "code",
   "execution_count": 90,
   "metadata": {},
   "outputs": [],
   "source": [
    "vectores = counvec.fit_transform(modelo[\"genres\"]).toarray()"
   ]
  },
  {
   "cell_type": "code",
   "execution_count": 91,
   "metadata": {},
   "outputs": [
    {
     "data": {
      "text/plain": [
       "array([[ 0,  1,  1, ...,  0,  0,  0],\n",
       "       [ 0,  2,  0, ...,  0,  0,  0],\n",
       "       [ 0,  0,  0, ...,  0,  0,  0],\n",
       "       ...,\n",
       "       [ 0,  0, 15, ...,  0,  0,  0],\n",
       "       [ 0, 53, 53, ...,  0,  0,  0],\n",
       "       [ 0, 15, 15, ...,  0,  0,  0]], dtype=int64)"
      ]
     },
     "execution_count": 91,
     "metadata": {},
     "output_type": "execute_result"
    }
   ],
   "source": [
    "# Se observan la forma de los vectores\n",
    "vectores"
   ]
  },
  {
   "cell_type": "markdown",
   "metadata": {},
   "source": [
    "Se calcula la similitud del coseno entre los vectores"
   ]
  },
  {
   "cell_type": "code",
   "execution_count": 92,
   "metadata": {},
   "outputs": [],
   "source": [
    "cosine_sim = cosine_similarity(vectores)"
   ]
  },
  {
   "cell_type": "code",
   "execution_count": 93,
   "metadata": {},
   "outputs": [
    {
     "data": {
      "text/plain": [
       "array([1.        , 0.75      , 0.35355339, ..., 0.4472136 , 0.40824829,\n",
       "       0.57735027])"
      ]
     },
     "execution_count": 93,
     "metadata": {},
     "output_type": "execute_result"
    }
   ],
   "source": [
    "cosine_sim[0]"
   ]
  },
  {
   "cell_type": "markdown",
   "metadata": {},
   "source": [
    "Se ordenan la lista de tuplas basandose en la similitus coseno, pasando de la más similar a menos similar tomando 5 valores"
   ]
  },
  {
   "cell_type": "code",
   "execution_count": 94,
   "metadata": {},
   "outputs": [
    {
     "data": {
      "text/plain": [
       "[(133, 1.0), (217, 1.0), (230, 1.0), (277, 1.0), (303, 1.0)]"
      ]
     },
     "execution_count": 94,
     "metadata": {},
     "output_type": "execute_result"
    }
   ],
   "source": [
    "sorted(list(enumerate(cosine_sim[0])), reverse=True, key=lambda x:x[1])[1:6]"
   ]
  },
  {
   "cell_type": "markdown",
   "metadata": {},
   "source": [
    "## Función de recomendación según un juego"
   ]
  },
  {
   "cell_type": "markdown",
   "metadata": {},
   "source": [
    "Ahora, conociendo la relación entre los distintos juegos, se puede proponer una función que realice una recomendación de 5 juegos en función de un juego dado, teniendo en cuenta los valores mas altos de similitud del coseno."
   ]
  },
  {
   "cell_type": "code",
   "execution_count": 96,
   "metadata": {},
   "outputs": [],
   "source": [
    "def recomendacion(game):\n",
    "    indice_juegos = modelo[modelo[\"item_name\"]==game].index[0]\n",
    "    distances = cosine_sim[indice_juegos]\n",
    "    lista_juegos = sorted(list(enumerate(distances)), reverse=True, key=lambda x: x[1])[1:6]\n",
    "    recommended_titles = [modelo.iloc[i[0]]['item_name'] for i in lista_juegos]\n",
    "    return recommended_titles"
   ]
  },
  {
   "cell_type": "code",
   "execution_count": 97,
   "metadata": {},
   "outputs": [
    {
     "data": {
      "text/plain": [
       "['Endless Sky',\n",
       " 'S.K.I.L.L. - Special Force 2',\n",
       " 'Back to Dinosaur Island ',\n",
       " 'Half-Life 2: Update',\n",
       " 'Portal Stories: Mel']"
      ]
     },
     "execution_count": 97,
     "metadata": {},
     "output_type": "execute_result"
    }
   ],
   "source": [
    "recomendacion('theHunter')"
   ]
  },
  {
   "cell_type": "markdown",
   "metadata": {},
   "source": [
    "**Generación de una tabla de resultados**"
   ]
  },
  {
   "cell_type": "markdown",
   "metadata": {},
   "source": [
    "Se aplica la función al dataframe para obtener una nueva columna con las recomendaciones ya que es más facil de cargar"
   ]
  },
  {
   "cell_type": "code",
   "execution_count": 98,
   "metadata": {},
   "outputs": [],
   "source": [
    "modelo['recomendaciones'] = modelo['item_name'].apply(recomendacion)"
   ]
  },
  {
   "cell_type": "code",
   "execution_count": 99,
   "metadata": {},
   "outputs": [
    {
     "data": {
      "text/html": [
       "<div>\n",
       "<style scoped>\n",
       "    .dataframe tbody tr th:only-of-type {\n",
       "        vertical-align: middle;\n",
       "    }\n",
       "\n",
       "    .dataframe tbody tr th {\n",
       "        vertical-align: top;\n",
       "    }\n",
       "\n",
       "    .dataframe thead th {\n",
       "        text-align: right;\n",
       "    }\n",
       "</style>\n",
       "<table border=\"1\" class=\"dataframe\">\n",
       "  <thead>\n",
       "    <tr style=\"text-align: right;\">\n",
       "      <th></th>\n",
       "      <th>item_name</th>\n",
       "      <th>item_id</th>\n",
       "      <th>genres</th>\n",
       "      <th>recomendaciones</th>\n",
       "    </tr>\n",
       "  </thead>\n",
       "  <tbody>\n",
       "    <tr>\n",
       "      <th>0</th>\n",
       "      <td>! That Bastard Is Trying To Steal Our Gold !</td>\n",
       "      <td>449940</td>\n",
       "      <td>Action, Adventure, Casual, Indie</td>\n",
       "      <td>[Aperture Tag: The Paint Gun Testing Initiativ...</td>\n",
       "    </tr>\n",
       "    <tr>\n",
       "      <th>1</th>\n",
       "      <td>10,000,000</td>\n",
       "      <td>227580</td>\n",
       "      <td>Action, Casual, Indie, RPG, Action, Casual, In...</td>\n",
       "      <td>[Castle Crashers, Forward to the Sky, Starboun...</td>\n",
       "    </tr>\n",
       "    <tr>\n",
       "      <th>2</th>\n",
       "      <td>100% Orange Juice</td>\n",
       "      <td>282800</td>\n",
       "      <td>Indie, Strategy, Indie, Strategy, Indie, Strat...</td>\n",
       "      <td>[AI War: Fleet Command, Castle Story, DEFCON, ...</td>\n",
       "    </tr>\n",
       "    <tr>\n",
       "      <th>3</th>\n",
       "      <td>12 Labours of Hercules</td>\n",
       "      <td>342580</td>\n",
       "      <td>Casual, Strategy, Casual, Strategy</td>\n",
       "      <td>[12 Labours of Hercules, Battle Chess: Game of...</td>\n",
       "    </tr>\n",
       "    <tr>\n",
       "      <th>4</th>\n",
       "      <td>12 Labours of Hercules II: The Cretan Bull</td>\n",
       "      <td>360640</td>\n",
       "      <td>Casual, Strategy, Casual, Strategy, Casual, St...</td>\n",
       "      <td>[12 Labours of Hercules, Battle Chess: Game of...</td>\n",
       "    </tr>\n",
       "  </tbody>\n",
       "</table>\n",
       "</div>"
      ],
      "text/plain": [
       "                                      item_name  item_id  \\\n",
       "0  ! That Bastard Is Trying To Steal Our Gold !   449940   \n",
       "1                                    10,000,000   227580   \n",
       "2                             100% Orange Juice   282800   \n",
       "3                        12 Labours of Hercules   342580   \n",
       "4    12 Labours of Hercules II: The Cretan Bull   360640   \n",
       "\n",
       "                                              genres  \\\n",
       "0                   Action, Adventure, Casual, Indie   \n",
       "1  Action, Casual, Indie, RPG, Action, Casual, In...   \n",
       "2  Indie, Strategy, Indie, Strategy, Indie, Strat...   \n",
       "3                 Casual, Strategy, Casual, Strategy   \n",
       "4  Casual, Strategy, Casual, Strategy, Casual, St...   \n",
       "\n",
       "                                     recomendaciones  \n",
       "0  [Aperture Tag: The Paint Gun Testing Initiativ...  \n",
       "1  [Castle Crashers, Forward to the Sky, Starboun...  \n",
       "2  [AI War: Fleet Command, Castle Story, DEFCON, ...  \n",
       "3  [12 Labours of Hercules, Battle Chess: Game of...  \n",
       "4  [12 Labours of Hercules, Battle Chess: Game of...  "
      ]
     },
     "execution_count": 99,
     "metadata": {},
     "output_type": "execute_result"
    }
   ],
   "source": [
    "modelo.head()"
   ]
  },
  {
   "cell_type": "markdown",
   "metadata": {},
   "source": [
    "Creamos un parquet para deployar en render la funcion de recomendacion, debido a la capacidad del mismo"
   ]
  },
  {
   "cell_type": "code",
   "execution_count": 100,
   "metadata": {},
   "outputs": [],
   "source": [
    "modelo.to_parquet('recomendaciones.parquet')"
   ]
  },
  {
   "cell_type": "markdown",
   "metadata": {},
   "source": [
    "Traemos el dataframe que usaremos ahora"
   ]
  },
  {
   "cell_type": "code",
   "execution_count": 101,
   "metadata": {},
   "outputs": [],
   "source": [
    "recomendaciones= pd.read_parquet('recomendaciones.parquet')"
   ]
  },
  {
   "cell_type": "markdown",
   "metadata": {},
   "source": [
    "Esta función sirve en el notebook pero no en la API por lo que se tuvo que cambiar y hacer otra que deployara en Render, sin ambargo realiza la misma funcion"
   ]
  },
  {
   "cell_type": "code",
   "execution_count": 102,
   "metadata": {},
   "outputs": [],
   "source": [
    "def recomendacion_juego(id_producto):\n",
    "    recomendacion = recomendaciones[recomendaciones['item_id'] == id_producto]['recomendaciones'].iloc[0]\n",
    "    \n",
    "    return {\n",
    "        'Te recomendamos algunos juegos similares al ingresado': recomendacion\n",
    "    }"
   ]
  },
  {
   "cell_type": "code",
   "execution_count": 103,
   "metadata": {},
   "outputs": [
    {
     "data": {
      "text/plain": [
       "{'Te recomendamos algunos juegos similares al ingresado': array(['Alien Breed 2: Assault', 'Alien Rage - Unlimited',\n",
       "        'Alien: Isolation', 'Aliens versus Predator Classic 2000',\n",
       "        'Aliens vs. Predator'], dtype=object)}"
      ]
     },
     "execution_count": 103,
     "metadata": {},
     "output_type": "execute_result"
    }
   ],
   "source": [
    "recomendacion_juego(1250)"
   ]
  }
 ],
 "metadata": {
  "kernelspec": {
   "display_name": "Python 3",
   "language": "python",
   "name": "python3"
  },
  "language_info": {
   "codemirror_mode": {
    "name": "ipython",
    "version": 3
   },
   "file_extension": ".py",
   "mimetype": "text/x-python",
   "name": "python",
   "nbconvert_exporter": "python",
   "pygments_lexer": "ipython3",
   "version": "3.11.6"
  }
 },
 "nbformat": 4,
 "nbformat_minor": 2
}
